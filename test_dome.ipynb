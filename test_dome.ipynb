{
 "cells": [
  {
   "attachments": {
    "image.png": {
     "image/png": "[encoded data removed]"
    }
   },
   "cell_type": "markdown",
   "id": "8d872bbb",
   "metadata": {},
   "source": [
    "![image.png](attachment:image.png)"
   ]
  },
  {
   "cell_type": "code",
   "execution_count": 9,
   "id": "5bc13b5b",
   "metadata": {},
   "outputs": [
    {
     "name": "stdout",
     "output_type": "stream",
     "text": [
      "(-4.0, -1.0)\n"
     ]
    }
   ],
   "source": [
    "def find_roots(a, b, c):\n",
    "    x1 = (-1 * b - (b**2 - 4 * a * c)**(1/2)) / (2 * a)\n",
    "    x2 = (-1 * b + (b**2 - 4 * a * c)**(1/2)) / (2 * a)\n",
    "    return x1, x2\n",
    "\n",
    "print(find_roots(2, 10, 8))"
   ]
  },
  {
   "cell_type": "markdown",
   "id": "ded07061",
   "metadata": {},
   "source": [
    "Implement function count_numbers that accepts a sorted list of unique integers and, efficiently with respect to time used, counts the number of list elements that are less than the parameter less_than.\n",
    "\n",
    "For example, count_numbers([1, 3, 5, 7], 4) should return 2 because there are two list elements less than 4."
   ]
  },
  {
   "cell_type": "code",
   "execution_count": 12,
   "id": "6e0ffbab",
   "metadata": {},
   "outputs": [
    {
     "name": "stdout",
     "output_type": "stream",
     "text": [
      "2\n"
     ]
    }
   ],
   "source": [
    "def count_numbers(sorted_list, less_than):\n",
    "    number = []\n",
    "    for x in sorted_list:\n",
    "        if x < less_than:\n",
    "            number.append(x)\n",
    "    return len(number)\n",
    "\n",
    "if __name__ == \"__main__\":\n",
    "    sorted_list = [1, 3, 5, 7]\n",
    "    print(count_numbers(sorted_list, 4)) # should print 2"
   ]
  },
  {
   "cell_type": "code",
   "execution_count": null,
   "id": "b8f8feee",
   "metadata": {},
   "outputs": [],
   "source": []
  }
 ],
 "metadata": {
  "kernelspec": {
   "display_name": "Python 3",
   "language": "python",
   "name": "python3"
  },
  "language_info": {
   "codemirror_mode": {
    "name": "ipython",
    "version": 3
   },
   "file_extension": ".py",
   "mimetype": "text/x-python",
   "name": "python",
   "nbconvert_exporter": "python",
   "pygments_lexer": "ipython3",
   "version": "3.8.8"
  }
 },
 "nbformat": 4,
 "nbformat_minor": 5
}
